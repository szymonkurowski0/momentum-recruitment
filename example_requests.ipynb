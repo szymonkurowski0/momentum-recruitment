{
 "cells": [
  {
   "cell_type": "code",
   "execution_count": 1,
   "id": "c72352f8-0bc7-4eaa-8a2e-4168606a467c",
   "metadata": {},
   "outputs": [],
   "source": [
    "import requests"
   ]
  },
  {
   "cell_type": "code",
   "execution_count": 2,
   "id": "76c37f4a-b12c-4b01-ada2-1ec434accfe0",
   "metadata": {},
   "outputs": [
    {
     "name": "stdout",
     "output_type": "stream",
     "text": [
      "{\"message\":\"pong\"}\n"
     ]
    }
   ],
   "source": [
    "response = requests.get('http://localhost:8000/ping/')\n",
    "print(response.text)"
   ]
  },
  {
   "cell_type": "code",
   "execution_count": 31,
   "id": "7ec7c546-3879-4af4-94c8-ef1776180e31",
   "metadata": {},
   "outputs": [],
   "source": [
    "titles = [\n",
    "    'The Way of Kings',\n",
    "    'Words of Radiance',\n",
    "    'Oathbringer',\n",
    "    'Rhytm of War',\n",
    "    'Wind and Truth'\n",
    "]"
   ]
  },
  {
   "cell_type": "code",
   "execution_count": 32,
   "id": "2c2aeec1-b62f-4bc6-b806-e78bf7dd09e7",
   "metadata": {},
   "outputs": [
    {
     "name": "stdout",
     "output_type": "stream",
     "text": [
      "201\n",
      "201\n",
      "201\n",
      "201\n",
      "201\n"
     ]
    }
   ],
   "source": [
    "for i, title in enumerate(titles):\n",
    "    id = 111111 + i\n",
    "    response = requests.post(\n",
    "        url='http://localhost:8000/books/add',\n",
    "        json = {\n",
    "            'id': id,\n",
    "            'author': 'Brandon Sanderson',\n",
    "            'title': title\n",
    "        }\n",
    "    )\n",
    "    print(response.status_code)"
   ]
  },
  {
   "cell_type": "code",
   "execution_count": 33,
   "id": "227c33d2-35c7-4256-ab27-d27f5e604df6",
   "metadata": {},
   "outputs": [],
   "source": [
    "titles = [\n",
    "    'Game of Thrones',\n",
    "    'Clash of Kings',\n",
    "    'Storm of Swords',\n",
    "    'Feast for Crows',\n",
    "    'Dance with Dragons',\n",
    "    'Winds of Winter',\n",
    "    'Dreams of Spring'\n",
    "]"
   ]
  },
  {
   "cell_type": "code",
   "execution_count": 34,
   "id": "30a910b8-caaa-44c2-80c7-240c1b6b3cb6",
   "metadata": {},
   "outputs": [
    {
     "name": "stdout",
     "output_type": "stream",
     "text": [
      "201\n",
      "201\n",
      "201\n",
      "201\n",
      "201\n",
      "201\n",
      "201\n"
     ]
    }
   ],
   "source": [
    "for i, title in enumerate(titles):\n",
    "    id = 111121 + i\n",
    "    response = requests.post(\n",
    "        url='http://localhost:8000/books/add',\n",
    "        json = {\n",
    "            'id': id,\n",
    "            'author': 'George R.R. Martin',\n",
    "            'title': title\n",
    "        }\n",
    "    )\n",
    "    print(response.status_code)"
   ]
  },
  {
   "cell_type": "code",
   "execution_count": 35,
   "id": "5d8becc3-b291-472c-a11d-200d61b50578",
   "metadata": {},
   "outputs": [
    {
     "data": {
      "text/plain": [
       "[{'id': 111111, 'title': 'The Way of Kings', 'author': 'Brandon Sanderson'},\n",
       " {'id': 111112, 'title': 'Words of Radiance', 'author': 'Brandon Sanderson'},\n",
       " {'id': 111113, 'title': 'Oathbringer', 'author': 'Brandon Sanderson'},\n",
       " {'id': 111114, 'title': 'Rhytm of War', 'author': 'Brandon Sanderson'},\n",
       " {'id': 111115, 'title': 'Wind and Truth', 'author': 'Brandon Sanderson'},\n",
       " {'id': 111121, 'title': 'Game of Thrones', 'author': 'George R.R. Martin'},\n",
       " {'id': 111122, 'title': 'Clash of Kings', 'author': 'George R.R. Martin'},\n",
       " {'id': 111123, 'title': 'Storm of Swords', 'author': 'George R.R. Martin'},\n",
       " {'id': 111124, 'title': 'Feast for Crows', 'author': 'George R.R. Martin'},\n",
       " {'id': 111125, 'title': 'Dance with Dragons', 'author': 'George R.R. Martin'},\n",
       " {'id': 111126, 'title': 'Winds of Winter', 'author': 'George R.R. Martin'},\n",
       " {'id': 111127, 'title': 'Dreams of Spring', 'author': 'George R.R. Martin'}]"
      ]
     },
     "execution_count": 35,
     "metadata": {},
     "output_type": "execute_result"
    }
   ],
   "source": [
    "requests.get('http://localhost:8000/books/list').json()"
   ]
  },
  {
   "cell_type": "code",
   "execution_count": 36,
   "id": "6e63b1bd-5625-4712-8d9e-32e56bb7c236",
   "metadata": {},
   "outputs": [],
   "source": [
    "def borrow_book(id, client):\n",
    "    response = requests.post(\n",
    "        url='http://localhost:8000/books/borrow',\n",
    "        json = {\n",
    "            'id': id,\n",
    "            'client': client\n",
    "        }\n",
    "    )\n",
    "    print(response.status_code)"
   ]
  },
  {
   "cell_type": "code",
   "execution_count": 37,
   "id": "789e9a3d-335d-42da-a88f-a26fc1fa8216",
   "metadata": {},
   "outputs": [
    {
     "name": "stdout",
     "output_type": "stream",
     "text": [
      "200\n",
      "200\n",
      "200\n"
     ]
    }
   ],
   "source": [
    "for id in [111111, 111112, 111113]:\n",
    "    borrow_book(id, 123456)"
   ]
  },
  {
   "cell_type": "code",
   "execution_count": 38,
   "id": "00b3e8c8-90fb-4304-a302-e0d170e21fb9",
   "metadata": {},
   "outputs": [
    {
     "data": {
      "text/plain": [
       "[{'id': 111111,\n",
       "  'title': 'The Way of Kings',\n",
       "  'author': 'Brandon Sanderson',\n",
       "  'borrowed_by': 123456,\n",
       "  'borrowed_at': '2025-03-10T01:44:45.895696+00:00'},\n",
       " {'id': 111112,\n",
       "  'title': 'Words of Radiance',\n",
       "  'author': 'Brandon Sanderson',\n",
       "  'borrowed_by': 123456,\n",
       "  'borrowed_at': '2025-03-10T01:44:45.904002+00:00'},\n",
       " {'id': 111113,\n",
       "  'title': 'Oathbringer',\n",
       "  'author': 'Brandon Sanderson',\n",
       "  'borrowed_by': 123456,\n",
       "  'borrowed_at': '2025-03-10T01:44:45.911569+00:00'}]"
      ]
     },
     "execution_count": 38,
     "metadata": {},
     "output_type": "execute_result"
    }
   ],
   "source": [
    "requests.get('http://localhost:8000/books/list_borrowed').json()"
   ]
  },
  {
   "cell_type": "code",
   "execution_count": 39,
   "id": "f2016536-f1e9-42f5-b46a-eb4fc1d2c25b",
   "metadata": {},
   "outputs": [
    {
     "data": {
      "text/plain": [
       "[{'id': 111114, 'title': 'Rhytm of War', 'author': 'Brandon Sanderson'},\n",
       " {'id': 111115, 'title': 'Wind and Truth', 'author': 'Brandon Sanderson'},\n",
       " {'id': 111121, 'title': 'Game of Thrones', 'author': 'George R.R. Martin'},\n",
       " {'id': 111122, 'title': 'Clash of Kings', 'author': 'George R.R. Martin'},\n",
       " {'id': 111123, 'title': 'Storm of Swords', 'author': 'George R.R. Martin'},\n",
       " {'id': 111124, 'title': 'Feast for Crows', 'author': 'George R.R. Martin'},\n",
       " {'id': 111125, 'title': 'Dance with Dragons', 'author': 'George R.R. Martin'},\n",
       " {'id': 111126, 'title': 'Winds of Winter', 'author': 'George R.R. Martin'},\n",
       " {'id': 111127, 'title': 'Dreams of Spring', 'author': 'George R.R. Martin'}]"
      ]
     },
     "execution_count": 39,
     "metadata": {},
     "output_type": "execute_result"
    }
   ],
   "source": [
    "requests.get('http://localhost:8000/books/list_available').json()"
   ]
  },
  {
   "cell_type": "code",
   "execution_count": 40,
   "id": "a32f8a67-f419-4f65-aa27-d515a08ffff2",
   "metadata": {},
   "outputs": [
    {
     "data": {
      "text/plain": [
       "{'id': 111111,\n",
       " 'title': 'The Way of Kings',\n",
       " 'author': 'Brandon Sanderson',\n",
       " 'borrowed': True,\n",
       " 'borrowed_by': 123456,\n",
       " 'borrowed_at': '2025-03-10T01:44:45.895696+00:00'}"
      ]
     },
     "execution_count": 40,
     "metadata": {},
     "output_type": "execute_result"
    }
   ],
   "source": [
    "requests.get('http://localhost:8000/books/111111').json()"
   ]
  },
  {
   "cell_type": "code",
   "execution_count": 41,
   "id": "85abab37-36c4-46c4-b73c-3c79c558bb46",
   "metadata": {},
   "outputs": [
    {
     "data": {
      "text/plain": [
       "<Response [200]>"
      ]
     },
     "execution_count": 41,
     "metadata": {},
     "output_type": "execute_result"
    }
   ],
   "source": [
    "requests.post(url='http://localhost:8000/books/return', json={'id': 111111})"
   ]
  },
  {
   "cell_type": "code",
   "execution_count": 42,
   "id": "4635ddd7-3c5c-4f95-a55d-8d44b01c1991",
   "metadata": {},
   "outputs": [
    {
     "data": {
      "text/plain": [
       "{'id': 111111,\n",
       " 'title': 'The Way of Kings',\n",
       " 'author': 'Brandon Sanderson',\n",
       " 'borrowed': False,\n",
       " 'borrowed_by': None,\n",
       " 'borrowed_at': None}"
      ]
     },
     "execution_count": 42,
     "metadata": {},
     "output_type": "execute_result"
    }
   ],
   "source": [
    "requests.get('http://localhost:8000/books/111111').json()"
   ]
  },
  {
   "cell_type": "code",
   "execution_count": 43,
   "id": "156c02fb-e4ad-4590-9a1f-f7bd1d463275",
   "metadata": {},
   "outputs": [
    {
     "data": {
      "text/plain": [
       "<Response [200]>"
      ]
     },
     "execution_count": 43,
     "metadata": {},
     "output_type": "execute_result"
    }
   ],
   "source": [
    "requests.post(url='http://localhost:8000/books/delete', json={'id': 111126})\n",
    "requests.post(url='http://localhost:8000/books/delete', json={'id': 111127})"
   ]
  },
  {
   "cell_type": "code",
   "execution_count": 44,
   "id": "fac8832d-0e91-4309-a1d1-2ea3d5c0c14d",
   "metadata": {},
   "outputs": [
    {
     "data": {
      "text/plain": [
       "[{'id': 111114, 'title': 'Rhytm of War', 'author': 'Brandon Sanderson'},\n",
       " {'id': 111115, 'title': 'Wind and Truth', 'author': 'Brandon Sanderson'},\n",
       " {'id': 111121, 'title': 'Game of Thrones', 'author': 'George R.R. Martin'},\n",
       " {'id': 111122, 'title': 'Clash of Kings', 'author': 'George R.R. Martin'},\n",
       " {'id': 111123, 'title': 'Storm of Swords', 'author': 'George R.R. Martin'},\n",
       " {'id': 111124, 'title': 'Feast for Crows', 'author': 'George R.R. Martin'},\n",
       " {'id': 111125, 'title': 'Dance with Dragons', 'author': 'George R.R. Martin'},\n",
       " {'id': 111112, 'title': 'Words of Radiance', 'author': 'Brandon Sanderson'},\n",
       " {'id': 111113, 'title': 'Oathbringer', 'author': 'Brandon Sanderson'},\n",
       " {'id': 111111, 'title': 'The Way of Kings', 'author': 'Brandon Sanderson'}]"
      ]
     },
     "execution_count": 44,
     "metadata": {},
     "output_type": "execute_result"
    }
   ],
   "source": [
    "requests.get('http://localhost:8000/books/list').json()"
   ]
  },
  {
   "cell_type": "code",
   "execution_count": 45,
   "id": "6a9d892d-40df-4a60-ace0-a84a43669410",
   "metadata": {},
   "outputs": [
    {
     "data": {
      "text/plain": [
       "<Response [200]>"
      ]
     },
     "execution_count": 45,
     "metadata": {},
     "output_type": "execute_result"
    }
   ],
   "source": [
    "requests.post('http://localhost:8000/books/clear')"
   ]
  },
  {
   "cell_type": "code",
   "execution_count": 46,
   "id": "1884a9dc-dcda-4833-8221-c2c98e4ac30b",
   "metadata": {},
   "outputs": [
    {
     "data": {
      "text/plain": [
       "[]"
      ]
     },
     "execution_count": 46,
     "metadata": {},
     "output_type": "execute_result"
    }
   ],
   "source": [
    "requests.get('http://localhost:8000/books/list').json()"
   ]
  },
  {
   "cell_type": "code",
   "execution_count": null,
   "id": "306bd106-a492-4629-acb1-8291fac4ce1b",
   "metadata": {},
   "outputs": [],
   "source": []
  }
 ],
 "metadata": {
  "kernelspec": {
   "display_name": "Python 3 (ipykernel)",
   "language": "python",
   "name": "python3"
  },
  "language_info": {
   "codemirror_mode": {
    "name": "ipython",
    "version": 3
   },
   "file_extension": ".py",
   "mimetype": "text/x-python",
   "name": "python",
   "nbconvert_exporter": "python",
   "pygments_lexer": "ipython3",
   "version": "3.9.19"
  }
 },
 "nbformat": 4,
 "nbformat_minor": 5
}
